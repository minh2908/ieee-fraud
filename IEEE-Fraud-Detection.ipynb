{
 "cells": [
  {
   "cell_type": "markdown",
   "metadata": {},
   "source": [
    "# Kaggle Competition: Detect Fraud from Customer Transactions\n",
    "\n",
    "In this project, we analyze a large scale dataset released by IEEE Computational Intelligence Society (IEEE-CIS) to detect fraud in customer transactions. By improving the accuracy of detecting fraud in credit card transactions, we can help millions of customers to shop safely and millions of business to reduce loss and increase revenue. The dataset consists of nearly 600,000 transactions with nearly 400 features. Details about the dataset and its documentation can be found on [Kaggle](https://www.kaggle.com/c/ieee-fraud-detection/).\n",
    "\n",
    "First, we load the libraries we are going to use and create a path to the data files."
   ]
  },
  {
   "cell_type": "code",
   "execution_count": 1,
   "metadata": {},
   "outputs": [],
   "source": [
    "%load_ext autoreload\n",
    "%autoreload 2\n",
    "\n",
    "%matplotlib inline"
   ]
  },
  {
   "cell_type": "code",
   "execution_count": 2,
   "metadata": {},
   "outputs": [],
   "source": [
    "from fastai.imports import *\n",
    "from fastai.structured import *\n",
    "\n",
    "from pandas_summary import DataFrameSummary\n",
    "from sklearn.ensemble import RandomForestRegressor, RandomForestClassifier\n",
    "from IPython.display import display\n",
    "\n",
    "from sklearn import metrics\n",
    "from sklearn.metrics import roc_auc_score"
   ]
  },
  {
   "cell_type": "markdown",
   "metadata": {},
   "source": [
    "The performance metric used in this competition is the ROC AUC score. We make sure the fastai library v0.7 is installed by checking the attribute `__version__`. Only fastai v1 and above have this attribute."
   ]
  },
  {
   "cell_type": "code",
   "execution_count": 3,
   "metadata": {
    "scrolled": true
   },
   "outputs": [
    {
     "ename": "AttributeError",
     "evalue": "module 'fastai' has no attribute '__version__'",
     "output_type": "error",
     "traceback": [
      "\u001b[0;31m---------------------------------------------------------------------------\u001b[0m",
      "\u001b[0;31mAttributeError\u001b[0m                            Traceback (most recent call last)",
      "\u001b[0;32m<ipython-input-3-6085ad8a4a6e>\u001b[0m in \u001b[0;36m<module>\u001b[0;34m\u001b[0m\n\u001b[1;32m      1\u001b[0m \u001b[0;32mimport\u001b[0m \u001b[0mfastai\u001b[0m\u001b[0;34m\u001b[0m\u001b[0;34m\u001b[0m\u001b[0m\n\u001b[0;32m----> 2\u001b[0;31m \u001b[0mfastai\u001b[0m\u001b[0;34m.\u001b[0m\u001b[0m__version__\u001b[0m\u001b[0;34m\u001b[0m\u001b[0;34m\u001b[0m\u001b[0m\n\u001b[0m",
      "\u001b[0;31mAttributeError\u001b[0m: module 'fastai' has no attribute '__version__'"
     ]
    }
   ],
   "source": [
    "import fastai\n",
    "fastai.__version__"
   ]
  },
  {
   "cell_type": "code",
   "execution_count": 4,
   "metadata": {},
   "outputs": [],
   "source": [
    "PATH = \"data_IEEE/\""
   ]
  },
  {
   "cell_type": "code",
   "execution_count": 5,
   "metadata": {
    "scrolled": false
   },
   "outputs": [
    {
     "name": "stdout",
     "output_type": "stream",
     "text": [
      "sample_submission.csv.zip  test_transaction.csv      train_identity.csv.zip\r\n",
      "test_identity.csv\t   test_transaction.csv.zip  train_transaction.csv\r\n",
      "test_identity.csv.zip\t   train_identity.csv\t     train_transaction.csv.zip\r\n"
     ]
    }
   ],
   "source": [
    "!ls {PATH}"
   ]
  },
  {
   "cell_type": "markdown",
   "metadata": {},
   "source": [
    "# Data Exploration\n",
    "\n",
    "In this section, we read in data files and explore their columns. Input data is in 2 separate files."
   ]
  },
  {
   "cell_type": "code",
   "execution_count": 6,
   "metadata": {},
   "outputs": [],
   "source": [
    "train_trans = pd.read_csv(f'{PATH}train_transaction.csv')"
   ]
  },
  {
   "cell_type": "code",
   "execution_count": 7,
   "metadata": {
    "scrolled": true
   },
   "outputs": [
    {
     "name": "stdout",
     "output_type": "stream",
     "text": [
      "<class 'pandas.core.frame.DataFrame'>\n",
      "RangeIndex: 590540 entries, 0 to 590539\n",
      "Columns: 394 entries, TransactionID to V339\n",
      "dtypes: float64(376), int64(4), object(14)\n",
      "memory usage: 1.7+ GB\n"
     ]
    }
   ],
   "source": [
    "train_trans.info()"
   ]
  },
  {
   "cell_type": "code",
   "execution_count": 8,
   "metadata": {
    "scrolled": true
   },
   "outputs": [
    {
     "data": {
      "text/plain": [
       "Index(['TransactionID', 'isFraud', 'TransactionDT', 'TransactionAmt',\n",
       "       'ProductCD', 'card1', 'card2', 'card3', 'card4', 'card5',\n",
       "       ...\n",
       "       'V330', 'V331', 'V332', 'V333', 'V334', 'V335', 'V336', 'V337', 'V338',\n",
       "       'V339'],\n",
       "      dtype='object', length=394)"
      ]
     },
     "execution_count": 8,
     "metadata": {},
     "output_type": "execute_result"
    }
   ],
   "source": [
    "train_trans.columns"
   ]
  },
  {
   "cell_type": "code",
   "execution_count": 9,
   "metadata": {},
   "outputs": [
    {
     "data": {
      "text/plain": [
       "0    86400\n",
       "1    86401\n",
       "2    86469\n",
       "3    86499\n",
       "4    86506\n",
       "5    86510\n",
       "6    86522\n",
       "7    86529\n",
       "8    86535\n",
       "9    86536\n",
       "Name: TransactionDT, dtype: int64"
      ]
     },
     "execution_count": 9,
     "metadata": {},
     "output_type": "execute_result"
    }
   ],
   "source": [
    "train_trans.TransactionDT.head(10)"
   ]
  },
  {
   "cell_type": "markdown",
   "metadata": {},
   "source": [
    "A first look at the data tells us that the training data has 590,540 rows and 394 columns. `TransactionDT` is a timedelta field and is sorted in ascending order. Documentation said that `D1`-`D15` are also timedelta columns."
   ]
  },
  {
   "cell_type": "code",
   "execution_count": 10,
   "metadata": {},
   "outputs": [
    {
     "data": {
      "text/html": [
       "<div>\n",
       "<style scoped>\n",
       "    .dataframe tbody tr th:only-of-type {\n",
       "        vertical-align: middle;\n",
       "    }\n",
       "\n",
       "    .dataframe tbody tr th {\n",
       "        vertical-align: top;\n",
       "    }\n",
       "\n",
       "    .dataframe thead th {\n",
       "        text-align: right;\n",
       "    }\n",
       "</style>\n",
       "<table border=\"1\" class=\"dataframe\">\n",
       "  <thead>\n",
       "    <tr style=\"text-align: right;\">\n",
       "      <th></th>\n",
       "      <th>D1</th>\n",
       "      <th>D2</th>\n",
       "      <th>D3</th>\n",
       "      <th>D4</th>\n",
       "      <th>D5</th>\n",
       "      <th>D6</th>\n",
       "      <th>D7</th>\n",
       "      <th>D8</th>\n",
       "      <th>D9</th>\n",
       "      <th>D10</th>\n",
       "      <th>D11</th>\n",
       "      <th>D12</th>\n",
       "      <th>D13</th>\n",
       "      <th>D14</th>\n",
       "      <th>D15</th>\n",
       "    </tr>\n",
       "  </thead>\n",
       "  <tbody>\n",
       "    <tr>\n",
       "      <td>0</td>\n",
       "      <td>14.0</td>\n",
       "      <td>NaN</td>\n",
       "      <td>13.0</td>\n",
       "      <td>NaN</td>\n",
       "      <td>NaN</td>\n",
       "      <td>NaN</td>\n",
       "      <td>NaN</td>\n",
       "      <td>NaN</td>\n",
       "      <td>NaN</td>\n",
       "      <td>13.0</td>\n",
       "      <td>13.0</td>\n",
       "      <td>NaN</td>\n",
       "      <td>NaN</td>\n",
       "      <td>NaN</td>\n",
       "      <td>0.0</td>\n",
       "    </tr>\n",
       "    <tr>\n",
       "      <td>1</td>\n",
       "      <td>0.0</td>\n",
       "      <td>NaN</td>\n",
       "      <td>NaN</td>\n",
       "      <td>0.0</td>\n",
       "      <td>NaN</td>\n",
       "      <td>NaN</td>\n",
       "      <td>NaN</td>\n",
       "      <td>NaN</td>\n",
       "      <td>NaN</td>\n",
       "      <td>0.0</td>\n",
       "      <td>NaN</td>\n",
       "      <td>NaN</td>\n",
       "      <td>NaN</td>\n",
       "      <td>NaN</td>\n",
       "      <td>0.0</td>\n",
       "    </tr>\n",
       "    <tr>\n",
       "      <td>2</td>\n",
       "      <td>0.0</td>\n",
       "      <td>NaN</td>\n",
       "      <td>NaN</td>\n",
       "      <td>0.0</td>\n",
       "      <td>NaN</td>\n",
       "      <td>NaN</td>\n",
       "      <td>NaN</td>\n",
       "      <td>NaN</td>\n",
       "      <td>NaN</td>\n",
       "      <td>0.0</td>\n",
       "      <td>315.0</td>\n",
       "      <td>NaN</td>\n",
       "      <td>NaN</td>\n",
       "      <td>NaN</td>\n",
       "      <td>315.0</td>\n",
       "    </tr>\n",
       "    <tr>\n",
       "      <td>3</td>\n",
       "      <td>112.0</td>\n",
       "      <td>112.0</td>\n",
       "      <td>0.0</td>\n",
       "      <td>94.0</td>\n",
       "      <td>0.0</td>\n",
       "      <td>NaN</td>\n",
       "      <td>NaN</td>\n",
       "      <td>NaN</td>\n",
       "      <td>NaN</td>\n",
       "      <td>84.0</td>\n",
       "      <td>NaN</td>\n",
       "      <td>NaN</td>\n",
       "      <td>NaN</td>\n",
       "      <td>NaN</td>\n",
       "      <td>111.0</td>\n",
       "    </tr>\n",
       "    <tr>\n",
       "      <td>4</td>\n",
       "      <td>0.0</td>\n",
       "      <td>NaN</td>\n",
       "      <td>NaN</td>\n",
       "      <td>NaN</td>\n",
       "      <td>NaN</td>\n",
       "      <td>NaN</td>\n",
       "      <td>NaN</td>\n",
       "      <td>NaN</td>\n",
       "      <td>NaN</td>\n",
       "      <td>NaN</td>\n",
       "      <td>NaN</td>\n",
       "      <td>NaN</td>\n",
       "      <td>NaN</td>\n",
       "      <td>NaN</td>\n",
       "      <td>NaN</td>\n",
       "    </tr>\n",
       "  </tbody>\n",
       "</table>\n",
       "</div>"
      ],
      "text/plain": [
       "      D1     D2    D3    D4   D5  D6  D7  D8  D9   D10    D11  D12  D13  D14  \\\n",
       "0   14.0    NaN  13.0   NaN  NaN NaN NaN NaN NaN  13.0   13.0  NaN  NaN  NaN   \n",
       "1    0.0    NaN   NaN   0.0  NaN NaN NaN NaN NaN   0.0    NaN  NaN  NaN  NaN   \n",
       "2    0.0    NaN   NaN   0.0  NaN NaN NaN NaN NaN   0.0  315.0  NaN  NaN  NaN   \n",
       "3  112.0  112.0   0.0  94.0  0.0 NaN NaN NaN NaN  84.0    NaN  NaN  NaN  NaN   \n",
       "4    0.0    NaN   NaN   NaN  NaN NaN NaN NaN NaN   NaN    NaN  NaN  NaN  NaN   \n",
       "\n",
       "     D15  \n",
       "0    0.0  \n",
       "1    0.0  \n",
       "2  315.0  \n",
       "3  111.0  \n",
       "4    NaN  "
      ]
     },
     "execution_count": 10,
     "metadata": {},
     "output_type": "execute_result"
    }
   ],
   "source": [
    "train_trans.filter(regex='^D',axis=1).head()"
   ]
  },
  {
   "cell_type": "code",
   "execution_count": 11,
   "metadata": {},
   "outputs": [],
   "source": [
    "train_id = pd.read_csv(f'{PATH}train_identity.csv')"
   ]
  },
  {
   "cell_type": "code",
   "execution_count": 12,
   "metadata": {
    "scrolled": false
   },
   "outputs": [
    {
     "name": "stdout",
     "output_type": "stream",
     "text": [
      "<class 'pandas.core.frame.DataFrame'>\n",
      "RangeIndex: 144233 entries, 0 to 144232\n",
      "Data columns (total 41 columns):\n",
      "TransactionID    144233 non-null int64\n",
      "id_01            144233 non-null float64\n",
      "id_02            140872 non-null float64\n",
      "id_03            66324 non-null float64\n",
      "id_04            66324 non-null float64\n",
      "id_05            136865 non-null float64\n",
      "id_06            136865 non-null float64\n",
      "id_07            5155 non-null float64\n",
      "id_08            5155 non-null float64\n",
      "id_09            74926 non-null float64\n",
      "id_10            74926 non-null float64\n",
      "id_11            140978 non-null float64\n",
      "id_12            144233 non-null object\n",
      "id_13            127320 non-null float64\n",
      "id_14            80044 non-null float64\n",
      "id_15            140985 non-null object\n",
      "id_16            129340 non-null object\n",
      "id_17            139369 non-null float64\n",
      "id_18            45113 non-null float64\n",
      "id_19            139318 non-null float64\n",
      "id_20            139261 non-null float64\n",
      "id_21            5159 non-null float64\n",
      "id_22            5169 non-null float64\n",
      "id_23            5169 non-null object\n",
      "id_24            4747 non-null float64\n",
      "id_25            5132 non-null float64\n",
      "id_26            5163 non-null float64\n",
      "id_27            5169 non-null object\n",
      "id_28            140978 non-null object\n",
      "id_29            140978 non-null object\n",
      "id_30            77565 non-null object\n",
      "id_31            140282 non-null object\n",
      "id_32            77586 non-null float64\n",
      "id_33            73289 non-null object\n",
      "id_34            77805 non-null object\n",
      "id_35            140985 non-null object\n",
      "id_36            140985 non-null object\n",
      "id_37            140985 non-null object\n",
      "id_38            140985 non-null object\n",
      "DeviceType       140810 non-null object\n",
      "DeviceInfo       118666 non-null object\n",
      "dtypes: float64(23), int64(1), object(17)\n",
      "memory usage: 45.1+ MB\n"
     ]
    }
   ],
   "source": [
    "train_id.info()"
   ]
  },
  {
   "cell_type": "markdown",
   "metadata": {},
   "source": [
    "The second training data files has 144,233 rows and 41 columns. We read in the test data."
   ]
  },
  {
   "cell_type": "code",
   "execution_count": 13,
   "metadata": {},
   "outputs": [],
   "source": [
    "test_trans = pd.read_csv(f'{PATH}test_transaction.csv')\n",
    "test_id = pd.read_csv(f'{PATH}test_identity.csv')"
   ]
  },
  {
   "cell_type": "markdown",
   "metadata": {},
   "source": [
    "# Cleaning Data\n",
    "\n",
    "First, we extract particular date fields from the timedelta columns."
   ]
  },
  {
   "cell_type": "code",
   "execution_count": 10,
   "metadata": {},
   "outputs": [],
   "source": [
    "add_datepart(train_trans, 'TransactionDT')\n",
    "add_datepart(test_trans, 'TransactionDT')"
   ]
  },
  {
   "cell_type": "code",
   "execution_count": 19,
   "metadata": {},
   "outputs": [],
   "source": [
    "for i in range(1,16):\n",
    "    col_name = 'D' + str(i)\n",
    "    add_datepart(train_trans, col_name)\n",
    "    add_datepart(test_trans, col_name)"
   ]
  },
  {
   "cell_type": "markdown",
   "metadata": {},
   "source": [
    "Then, we combine the two input files into one."
   ]
  },
  {
   "cell_type": "code",
   "execution_count": 20,
   "metadata": {},
   "outputs": [],
   "source": [
    "train_merged = pd.merge(left=train_trans, right=train_id, on='TransactionID',how='left')"
   ]
  },
  {
   "cell_type": "code",
   "execution_count": 21,
   "metadata": {},
   "outputs": [],
   "source": [
    "test_merged = pd.merge(left=test_trans, right=test_id, on='TransactionID',how='left')"
   ]
  },
  {
   "cell_type": "code",
   "execution_count": 22,
   "metadata": {
    "scrolled": false
   },
   "outputs": [
    {
     "name": "stdout",
     "output_type": "stream",
     "text": [
      "<class 'pandas.core.frame.DataFrame'>\n",
      "Int64Index: 590540 entries, 0 to 590539\n",
      "Columns: 614 entries, TransactionID to DeviceInfo\n",
      "dtypes: bool(90), float64(474), int64(19), object(31)\n",
      "memory usage: 2.4+ GB\n"
     ]
    }
   ],
   "source": [
    "train_merged.info()"
   ]
  },
  {
   "cell_type": "markdown",
   "metadata": {},
   "source": [
    "After combining, the dataset has 590,540 rows, 446 columns. Next, we change string columns to categorical types."
   ]
  },
  {
   "cell_type": "code",
   "execution_count": 23,
   "metadata": {},
   "outputs": [],
   "source": [
    "train_cats(train_merged)"
   ]
  },
  {
   "cell_type": "code",
   "execution_count": 24,
   "metadata": {},
   "outputs": [],
   "source": [
    "apply_cats(df=test_merged, trn=train_merged)"
   ]
  },
  {
   "cell_type": "markdown",
   "metadata": {},
   "source": [
    "Store the processed data for fast future deployment."
   ]
  },
  {
   "cell_type": "code",
   "execution_count": 25,
   "metadata": {},
   "outputs": [],
   "source": [
    "os.makedirs('tmp', exist_ok=True)\n",
    "train_merged.to_feather('tmp/IEEE-train-merged2')"
   ]
  },
  {
   "cell_type": "code",
   "execution_count": 26,
   "metadata": {},
   "outputs": [],
   "source": [
    "test_merged.to_feather('tmp/IEEE-test-merged2')"
   ]
  },
  {
   "cell_type": "markdown",
   "metadata": {},
   "source": [
    "# Returning to Work\n",
    "\n",
    "From the second time working with the notebook, we can just load the cleaned data and save some time."
   ]
  },
  {
   "cell_type": "code",
   "execution_count": 4,
   "metadata": {},
   "outputs": [],
   "source": [
    "train_merged = pd.read_feather('tmp/IEEE-train-merged2')"
   ]
  },
  {
   "cell_type": "code",
   "execution_count": 5,
   "metadata": {},
   "outputs": [
    {
     "name": "stdout",
     "output_type": "stream",
     "text": [
      "<class 'pandas.core.frame.DataFrame'>\n",
      "RangeIndex: 590540 entries, 0 to 590539\n",
      "Columns: 614 entries, TransactionID to DeviceInfo\n",
      "dtypes: bool(90), category(31), float64(474), int64(19)\n",
      "memory usage: 2.2 GB\n"
     ]
    }
   ],
   "source": [
    "train_merged.info()"
   ]
  },
  {
   "cell_type": "code",
   "execution_count": 5,
   "metadata": {},
   "outputs": [
    {
     "data": {
      "text/html": [
       "<div>\n",
       "<style scoped>\n",
       "    .dataframe tbody tr th:only-of-type {\n",
       "        vertical-align: middle;\n",
       "    }\n",
       "\n",
       "    .dataframe tbody tr th {\n",
       "        vertical-align: top;\n",
       "    }\n",
       "\n",
       "    .dataframe thead th {\n",
       "        text-align: right;\n",
       "    }\n",
       "</style>\n",
       "<table border=\"1\" class=\"dataframe\">\n",
       "  <thead>\n",
       "    <tr style=\"text-align: right;\">\n",
       "      <th></th>\n",
       "      <th>TransactionID</th>\n",
       "      <th>TransactionAmt</th>\n",
       "      <th>TransactionDTYear</th>\n",
       "      <th>TransactionDTMonth</th>\n",
       "      <th>TransactionDTWeek</th>\n",
       "      <th>TransactionDTDay</th>\n",
       "      <th>TransactionDTDayofweek</th>\n",
       "      <th>TransactionDTDayofyear</th>\n",
       "      <th>TransactionDTIs_month_end</th>\n",
       "      <th>TransactionDTIs_month_start</th>\n",
       "      <th>TransactionDTIs_quarter_end</th>\n",
       "      <th>TransactionDTIs_quarter_start</th>\n",
       "      <th>TransactionDTIs_year_end</th>\n",
       "      <th>TransactionDTIs_year_start</th>\n",
       "      <th>TransactionDTElapsed</th>\n",
       "    </tr>\n",
       "  </thead>\n",
       "  <tbody>\n",
       "    <tr>\n",
       "      <th>0</th>\n",
       "      <td>2987000</td>\n",
       "      <td>68.5</td>\n",
       "      <td>1970</td>\n",
       "      <td>1</td>\n",
       "      <td>1</td>\n",
       "      <td>1</td>\n",
       "      <td>3</td>\n",
       "      <td>1</td>\n",
       "      <td>False</td>\n",
       "      <td>True</td>\n",
       "      <td>False</td>\n",
       "      <td>True</td>\n",
       "      <td>False</td>\n",
       "      <td>True</td>\n",
       "      <td>0</td>\n",
       "    </tr>\n",
       "    <tr>\n",
       "      <th>1</th>\n",
       "      <td>2987001</td>\n",
       "      <td>29.0</td>\n",
       "      <td>1970</td>\n",
       "      <td>1</td>\n",
       "      <td>1</td>\n",
       "      <td>1</td>\n",
       "      <td>3</td>\n",
       "      <td>1</td>\n",
       "      <td>False</td>\n",
       "      <td>True</td>\n",
       "      <td>False</td>\n",
       "      <td>True</td>\n",
       "      <td>False</td>\n",
       "      <td>True</td>\n",
       "      <td>0</td>\n",
       "    </tr>\n",
       "    <tr>\n",
       "      <th>2</th>\n",
       "      <td>2987002</td>\n",
       "      <td>59.0</td>\n",
       "      <td>1970</td>\n",
       "      <td>1</td>\n",
       "      <td>1</td>\n",
       "      <td>1</td>\n",
       "      <td>3</td>\n",
       "      <td>1</td>\n",
       "      <td>False</td>\n",
       "      <td>True</td>\n",
       "      <td>False</td>\n",
       "      <td>True</td>\n",
       "      <td>False</td>\n",
       "      <td>True</td>\n",
       "      <td>0</td>\n",
       "    </tr>\n",
       "    <tr>\n",
       "      <th>3</th>\n",
       "      <td>2987003</td>\n",
       "      <td>50.0</td>\n",
       "      <td>1970</td>\n",
       "      <td>1</td>\n",
       "      <td>1</td>\n",
       "      <td>1</td>\n",
       "      <td>3</td>\n",
       "      <td>1</td>\n",
       "      <td>False</td>\n",
       "      <td>True</td>\n",
       "      <td>False</td>\n",
       "      <td>True</td>\n",
       "      <td>False</td>\n",
       "      <td>True</td>\n",
       "      <td>0</td>\n",
       "    </tr>\n",
       "    <tr>\n",
       "      <th>4</th>\n",
       "      <td>2987004</td>\n",
       "      <td>50.0</td>\n",
       "      <td>1970</td>\n",
       "      <td>1</td>\n",
       "      <td>1</td>\n",
       "      <td>1</td>\n",
       "      <td>3</td>\n",
       "      <td>1</td>\n",
       "      <td>False</td>\n",
       "      <td>True</td>\n",
       "      <td>False</td>\n",
       "      <td>True</td>\n",
       "      <td>False</td>\n",
       "      <td>True</td>\n",
       "      <td>0</td>\n",
       "    </tr>\n",
       "  </tbody>\n",
       "</table>\n",
       "</div>"
      ],
      "text/plain": [
       "   TransactionID  TransactionAmt  TransactionDTYear  TransactionDTMonth  \\\n",
       "0        2987000            68.5               1970                   1   \n",
       "1        2987001            29.0               1970                   1   \n",
       "2        2987002            59.0               1970                   1   \n",
       "3        2987003            50.0               1970                   1   \n",
       "4        2987004            50.0               1970                   1   \n",
       "\n",
       "   TransactionDTWeek  TransactionDTDay  TransactionDTDayofweek  \\\n",
       "0                  1                 1                       3   \n",
       "1                  1                 1                       3   \n",
       "2                  1                 1                       3   \n",
       "3                  1                 1                       3   \n",
       "4                  1                 1                       3   \n",
       "\n",
       "   TransactionDTDayofyear  TransactionDTIs_month_end  \\\n",
       "0                       1                      False   \n",
       "1                       1                      False   \n",
       "2                       1                      False   \n",
       "3                       1                      False   \n",
       "4                       1                      False   \n",
       "\n",
       "   TransactionDTIs_month_start  TransactionDTIs_quarter_end  \\\n",
       "0                         True                        False   \n",
       "1                         True                        False   \n",
       "2                         True                        False   \n",
       "3                         True                        False   \n",
       "4                         True                        False   \n",
       "\n",
       "   TransactionDTIs_quarter_start  TransactionDTIs_year_end  \\\n",
       "0                           True                     False   \n",
       "1                           True                     False   \n",
       "2                           True                     False   \n",
       "3                           True                     False   \n",
       "4                           True                     False   \n",
       "\n",
       "   TransactionDTIs_year_start  TransactionDTElapsed  \n",
       "0                        True                     0  \n",
       "1                        True                     0  \n",
       "2                        True                     0  \n",
       "3                        True                     0  \n",
       "4                        True                     0  "
      ]
     },
     "execution_count": 5,
     "metadata": {},
     "output_type": "execute_result"
    }
   ],
   "source": [
    "train_merged.filter(regex='^[Tt]ransaction',axis=1).head()"
   ]
  },
  {
   "cell_type": "markdown",
   "metadata": {},
   "source": [
    "We replace categories with numeric codes, handle missing continuous values, and split the dependent variable into a separate variable."
   ]
  },
  {
   "cell_type": "code",
   "execution_count": 6,
   "metadata": {},
   "outputs": [],
   "source": [
    "df, y, nas = proc_df(train_merged, 'isFraud')"
   ]
  },
  {
   "cell_type": "markdown",
   "metadata": {},
   "source": [
    "We create a validation set. Since the data is sorted in the ascending order of time, we take the validation set to be the last rows of the dataset."
   ]
  },
  {
   "cell_type": "code",
   "execution_count": 7,
   "metadata": {},
   "outputs": [
    {
     "data": {
      "text/plain": [
       "((540540, 1072), (540540,), (50000, 1072))"
      ]
     },
     "execution_count": 7,
     "metadata": {},
     "output_type": "execute_result"
    }
   ],
   "source": [
    "def split_vals(a,n): return a[:n].copy(), a[n:].copy()\n",
    "\n",
    "n_valid = 50000  # fast testing\n",
    "n_trn = len(train_merged)-n_valid\n",
    "X_train, X_valid = split_vals(df, n_trn)\n",
    "y_train, y_valid = split_vals(y, n_trn)\n",
    "\n",
    "X_train.shape, y_train.shape, X_valid.shape"
   ]
  },
  {
   "cell_type": "markdown",
   "metadata": {},
   "source": [
    "# Subsampling\n",
    "\n",
    "Since the number of rows in the dataset is large, we want to subsample it so that we can experiment with hyper parameters fast."
   ]
  },
  {
   "cell_type": "code",
   "execution_count": 8,
   "metadata": {},
   "outputs": [],
   "source": [
    "set_rf_samples(20000)"
   ]
  },
  {
   "cell_type": "markdown",
   "metadata": {},
   "source": [
    "We create a function to print out the ROC AUC score and R squared score of the test set and validation set."
   ]
  },
  {
   "cell_type": "code",
   "execution_count": 12,
   "metadata": {},
   "outputs": [],
   "source": [
    "def print_score(m):\n",
    "    res = [roc_auc_score(y_train, m.predict_proba(X_train)[:,1]), roc_auc_score(y_valid, m.predict_proba(X_valid)[:,1]),\n",
    "                m.score(X_train, y_train), m.score(X_valid, y_valid)]\n",
    "    if hasattr(m, 'oob_score_'): res.append(m.oob_score_)\n",
    "    print(res)"
   ]
  },
  {
   "cell_type": "markdown",
   "metadata": {},
   "source": [
    "# Base Model\n",
    "\n",
    "In this project, we will use a Random Forest Classifier to classify the data. We start with a base model using default parameters. To facilitate training, we first turn the input dataframe into a Numpy array so that we can reuse this step in each training."
   ]
  },
  {
   "cell_type": "code",
   "execution_count": 10,
   "metadata": {},
   "outputs": [],
   "source": [
    "X_train = np.array(X_train, dtype=np.float32)"
   ]
  },
  {
   "cell_type": "code",
   "execution_count": 11,
   "metadata": {
    "scrolled": false
   },
   "outputs": [
    {
     "name": "stderr",
     "output_type": "stream",
     "text": [
      "/home/ubuntu/anaconda3/envs/fastai/lib/python3.6/site-packages/sklearn/ensemble/forest.py:245: FutureWarning: The default value of n_estimators will change from 10 in version 0.20 to 100 in 0.22.\n",
      "  \"10 in version 0.20 to 100 in 0.22.\", FutureWarning)\n"
     ]
    },
    {
     "name": "stdout",
     "output_type": "stream",
     "text": [
      "CPU times: user 6.92 s, sys: 5.36 s, total: 12.3 s\n",
      "Wall time: 2.28 s\n",
      "[0.8634435881378988, 0.7895531409705834, 0.9729270729270729, 0.96928]\n"
     ]
    }
   ],
   "source": [
    "m = RandomForestClassifier(n_jobs=-1)\n",
    "%time m.fit(X_train, y_train)\n",
    "print_score(m)"
   ]
  },
  {
   "cell_type": "markdown",
   "metadata": {},
   "source": [
    "We want to see if adding trees in the model works. Below is a graph of the ROC AUC score as the function of the number of trees in the forest."
   ]
  },
  {
   "cell_type": "code",
   "execution_count": 12,
   "metadata": {
    "scrolled": true
   },
   "outputs": [
    {
     "data": {
      "image/png": "[encoded data removed]",
      "text/plain": [
       "<Figure size 432x288 with 1 Axes>"
      ]
     },
     "metadata": {
      "needs_background": "light"
     },
     "output_type": "display_data"
    }
   ],
   "source": [
    "preds = np.stack([t.predict(X_valid) for t in m.estimators_])\n",
    "plt.plot([roc_auc_score(y_valid, np.mean(preds[:i+1], axis=0)) for i in range(10)]);"
   ]
  },
  {
   "cell_type": "markdown",
   "metadata": {},
   "source": [
    "We observe that `roc_auc_score` still increases when the number of trees increases. Adding more trees improve the model."
   ]
  },
  {
   "cell_type": "markdown",
   "metadata": {},
   "source": [
    "## Adding more trees"
   ]
  },
  {
   "cell_type": "code",
   "execution_count": 13,
   "metadata": {},
   "outputs": [
    {
     "name": "stdout",
     "output_type": "stream",
     "text": [
      "CPU times: user 11.6 s, sys: 9.05 s, total: 20.6 s\n",
      "Wall time: 3.37 s\n",
      "[0.9043364324161944, 0.8348681583713486, 0.9734228734228734, 0.96954]\n"
     ]
    }
   ],
   "source": [
    "m = RandomForestClassifier(n_estimators=20, n_jobs=-1)\n",
    "%time m.fit(X_train, y_train)\n",
    "print_score(m)"
   ]
  },
  {
   "cell_type": "code",
   "execution_count": 21,
   "metadata": {},
   "outputs": [
    {
     "name": "stdout",
     "output_type": "stream",
     "text": [
      "CPU times: user 47.7 s, sys: 24.9 s, total: 1min 12s\n",
      "Wall time: 39.3 s\n",
      "[0.9364281089936927, 0.8609290180259929, 0.9738909238909239, 0.96976]\n"
     ]
    }
   ],
   "source": [
    "m = RandomForestClassifier(n_estimators=40, n_jobs=-1)\n",
    "%time m.fit(X_train, y_train)\n",
    "print_score(m)"
   ]
  },
  {
   "cell_type": "code",
   "execution_count": 28,
   "metadata": {
    "scrolled": true
   },
   "outputs": [
    {
     "name": "stdout",
     "output_type": "stream",
     "text": [
      "CPU times: user 1min 8s, sys: 45.2 s, total: 1min 53s\n",
      "Wall time: 44.3 s\n",
      "[0.9529855542302128, 0.8737971297771846, 0.9742516742516742, 0.97038]\n"
     ]
    }
   ],
   "source": [
    "m = RandomForestClassifier(n_estimators=80,n_jobs=-1)\n",
    "%time m.fit(X_train, y_train)\n",
    "print_score(m)"
   ]
  },
  {
   "cell_type": "code",
   "execution_count": 29,
   "metadata": {},
   "outputs": [
    {
     "name": "stdout",
     "output_type": "stream",
     "text": [
      "CPU times: user 1min 30s, sys: 1min 7s, total: 2min 37s\n",
      "Wall time: 49.8 s\n",
      "[0.9581467411876532, 0.8778753902848331, 0.9742738742738742, 0.9707]\n"
     ]
    }
   ],
   "source": [
    "m = RandomForestClassifier(n_estimators=120,n_jobs=-1)\n",
    "%time m.fit(X_train, y_train)\n",
    "print_score(m)"
   ]
  },
  {
   "cell_type": "code",
   "execution_count": 30,
   "metadata": {
    "scrolled": true
   },
   "outputs": [
    {
     "name": "stdout",
     "output_type": "stream",
     "text": [
      "CPU times: user 1min 58s, sys: 1min 36s, total: 3min 35s\n",
      "Wall time: 57.1 s\n",
      "[0.9611260518170784, 0.8814041041789905, 0.9743608243608244, 0.97028]\n"
     ]
    }
   ],
   "source": [
    "m = RandomForestClassifier(n_estimators=180,n_jobs=-1)\n",
    "%time m.fit(X_train, y_train)\n",
    "print_score(m)"
   ]
  },
  {
   "cell_type": "code",
   "execution_count": 31,
   "metadata": {
    "scrolled": false
   },
   "outputs": [
    {
     "name": "stdout",
     "output_type": "stream",
     "text": [
      "CPU times: user 2min 51s, sys: 2min 23s, total: 5min 15s\n",
      "Wall time: 1min 9s\n",
      "[0.9637942261041458, 0.8852261731087566, 0.9743848743848744, 0.97046]\n"
     ]
    }
   ],
   "source": [
    "m = RandomForestClassifier(n_estimators=280,n_jobs=-1)\n",
    "%time m.fit(X_train, y_train)\n",
    "print_score(m)"
   ]
  },
  {
   "cell_type": "markdown",
   "metadata": {},
   "source": [
    "We see that the model still improves as we add more trees. However, the improving rate is flattened as the number of trees grows above 200. Also, adding more trees takes longer time to for the model to train."
   ]
  },
  {
   "cell_type": "markdown",
   "metadata": {},
   "source": [
    "## Varying min samples\n",
    "\n",
    "We experiment with different value of `min_samples_leaf` to reduce overfitting in the model."
   ]
  },
  {
   "cell_type": "code",
   "execution_count": 14,
   "metadata": {},
   "outputs": [
    {
     "name": "stdout",
     "output_type": "stream",
     "text": [
      "CPU times: user 12 s, sys: 10.4 s, total: 22.4 s\n",
      "Wall time: 3.5 s\n",
      "[0.8997895053690199, 0.8614383969665582, 0.9728623228623229, 0.96988]\n"
     ]
    }
   ],
   "source": [
    "m = RandomForestClassifier(n_estimators=20, min_samples_leaf=3, n_jobs=-1)\n",
    "%time m.fit(X_train, y_train)\n",
    "print_score(m)"
   ]
  },
  {
   "cell_type": "code",
   "execution_count": 17,
   "metadata": {},
   "outputs": [
    {
     "name": "stdout",
     "output_type": "stream",
     "text": [
      "CPU times: user 10.7 s, sys: 9.19 s, total: 19.8 s\n",
      "Wall time: 3.19 s\n",
      "[0.8947060212966227, 0.8655707552763667, 0.9718041218041218, 0.96938]\n"
     ]
    }
   ],
   "source": [
    "m = RandomForestClassifier(n_estimators=20, min_samples_leaf=5, n_jobs=-1)\n",
    "%time m.fit(X_train, y_train)\n",
    "print_score(m)"
   ]
  },
  {
   "cell_type": "code",
   "execution_count": 18,
   "metadata": {},
   "outputs": [
    {
     "name": "stdout",
     "output_type": "stream",
     "text": [
      "CPU times: user 10.1 s, sys: 10.2 s, total: 20.2 s\n",
      "Wall time: 3.3 s\n",
      "[0.8879720693395681, 0.8712359595700174, 0.9711196211196211, 0.96896]\n"
     ]
    }
   ],
   "source": [
    "m = RandomForestClassifier(n_estimators=20, min_samples_leaf=10, n_jobs=-1)\n",
    "%time m.fit(X_train, y_train)\n",
    "print_score(m)"
   ]
  },
  {
   "cell_type": "code",
   "execution_count": 19,
   "metadata": {},
   "outputs": [
    {
     "name": "stdout",
     "output_type": "stream",
     "text": [
      "CPU times: user 9.52 s, sys: 8.99 s, total: 18.5 s\n",
      "Wall time: 3.07 s\n",
      "[0.877389468314549, 0.8680856616658983, 0.9701853701853702, 0.96778]\n"
     ]
    }
   ],
   "source": [
    "m = RandomForestClassifier(n_estimators=20, min_samples_leaf=25, n_jobs=-1)\n",
    "%time m.fit(X_train, y_train)\n",
    "print_score(m)"
   ]
  },
  {
   "cell_type": "code",
   "execution_count": 20,
   "metadata": {
    "scrolled": true
   },
   "outputs": [
    {
     "name": "stdout",
     "output_type": "stream",
     "text": [
      "CPU times: user 9.07 s, sys: 8.97 s, total: 18 s\n",
      "Wall time: 2.85 s\n",
      "[0.8747136874472449, 0.8646869623112652, 0.9695582195582195, 0.96758]\n"
     ]
    }
   ],
   "source": [
    "m = RandomForestClassifier(n_estimators=20, min_samples_leaf=35, n_jobs=-1)\n",
    "%time m.fit(X_train, y_train)\n",
    "print_score(m)"
   ]
  },
  {
   "cell_type": "markdown",
   "metadata": {},
   "source": [
    "## Varying max features"
   ]
  },
  {
   "cell_type": "code",
   "execution_count": 22,
   "metadata": {},
   "outputs": [
    {
     "name": "stdout",
     "output_type": "stream",
     "text": [
      "CPU times: user 1min 44s, sys: 8.86 s, total: 1min 53s\n",
      "Wall time: 16.9 s\n",
      "[0.9010849723786163, 0.8729833273512171, 0.9732508232508232, 0.97052]\n"
     ]
    }
   ],
   "source": [
    "m = RandomForestClassifier(n_estimators=20, min_samples_leaf=10, max_features=0.5, n_jobs=-1)\n",
    "%time m.fit(X_train, y_train)\n",
    "print_score(m)"
   ]
  },
  {
   "cell_type": "code",
   "execution_count": 23,
   "metadata": {},
   "outputs": [
    {
     "name": "stdout",
     "output_type": "stream",
     "text": [
      "CPU times: user 3min 26s, sys: 7.87 s, total: 3min 34s\n",
      "Wall time: 32.8 s\n",
      "[0.9029309090375652, 0.8703599951072958, 0.9731786731786731, 0.9706]\n"
     ]
    }
   ],
   "source": [
    "m = RandomForestClassifier(n_estimators=20, min_samples_leaf=10, max_features=1.0, n_jobs=-1)\n",
    "%time m.fit(X_train, y_train)\n",
    "print_score(m)"
   ]
  },
  {
   "cell_type": "code",
   "execution_count": 24,
   "metadata": {
    "scrolled": true
   },
   "outputs": [
    {
     "name": "stdout",
     "output_type": "stream",
     "text": [
      "CPU times: user 6.03 s, sys: 8.31 s, total: 14.3 s\n",
      "Wall time: 2.41 s\n",
      "[0.8691936890994235, 0.8607799256235259, 0.9701243201243201, 0.96786]\n"
     ]
    }
   ],
   "source": [
    "m = RandomForestClassifier(n_estimators=20, min_samples_leaf=10, max_features=\"log2\", n_jobs=-1)\n",
    "%time m.fit(X_train, y_train)\n",
    "print_score(m)"
   ]
  },
  {
   "cell_type": "markdown",
   "metadata": {},
   "source": [
    "## Interpreting Models"
   ]
  },
  {
   "cell_type": "markdown",
   "metadata": {},
   "source": [
    "Turn into numpy array for faster training"
   ]
  },
  {
   "cell_type": "code",
   "execution_count": 14,
   "metadata": {},
   "outputs": [],
   "source": [
    "X_train = np.array(X_train, dtype=np.float32)"
   ]
  },
  {
   "cell_type": "code",
   "execution_count": 21,
   "metadata": {},
   "outputs": [
    {
     "name": "stdout",
     "output_type": "stream",
     "text": [
      "CPU times: user 26.2 s, sys: 9.29 s, total: 35.5 s\n",
      "Wall time: 6.9 s\n",
      "[0.9296459178611897, 0.8714661328899901, 0.9747400747400747, 0.97058]\n"
     ]
    }
   ],
   "source": [
    "m = RandomForestClassifier(n_estimators=20, min_samples_leaf=10,max_features=0.5, n_jobs=-1)\n",
    "%time m.fit(X_train, y_train)\n",
    "print_score(m)"
   ]
  },
  {
   "cell_type": "markdown",
   "metadata": {},
   "source": [
    "Start interpretation"
   ]
  },
  {
   "cell_type": "code",
   "execution_count": 10,
   "metadata": {},
   "outputs": [],
   "source": [
    "set_rf_samples(50000)"
   ]
  },
  {
   "cell_type": "code",
   "execution_count": 17,
   "metadata": {
    "scrolled": true
   },
   "outputs": [
    {
     "name": "stdout",
     "output_type": "stream",
     "text": [
      "CPU times: user 20 ms, sys: 752 ms, total: 772 ms\n",
      "Wall time: 10.8 s\n"
     ]
    },
    {
     "data": {
      "text/plain": [
       "(0.05, 0.21794494717703367)"
      ]
     },
     "execution_count": 17,
     "metadata": {},
     "output_type": "execute_result"
    }
   ],
   "source": [
    "def get_preds(t): return t.predict(X_valid)\n",
    "%time preds = np.stack(parallel_trees(m, get_preds))\n",
    "np.mean(preds[:,0]), np.std(preds[:,0])"
   ]
  },
  {
   "cell_type": "code",
   "execution_count": 18,
   "metadata": {},
   "outputs": [],
   "source": [
    "raw_train, raw_valid = split_vals(train_merged, n_trn)"
   ]
  },
  {
   "cell_type": "code",
   "execution_count": 15,
   "metadata": {
    "scrolled": true
   },
   "outputs": [
    {
     "data": {
      "text/html": [
       "<div>\n",
       "<style scoped>\n",
       "    .dataframe tbody tr th:only-of-type {\n",
       "        vertical-align: middle;\n",
       "    }\n",
       "\n",
       "    .dataframe tbody tr th {\n",
       "        vertical-align: top;\n",
       "    }\n",
       "\n",
       "    .dataframe thead th {\n",
       "        text-align: right;\n",
       "    }\n",
       "</style>\n",
       "<table border=\"1\" class=\"dataframe\">\n",
       "  <thead>\n",
       "    <tr style=\"text-align: right;\">\n",
       "      <th></th>\n",
       "      <th>cols</th>\n",
       "      <th>imp</th>\n",
       "    </tr>\n",
       "  </thead>\n",
       "  <tbody>\n",
       "    <tr>\n",
       "      <td>296</td>\n",
       "      <td>V258</td>\n",
       "      <td>0.085908</td>\n",
       "    </tr>\n",
       "    <tr>\n",
       "      <td>295</td>\n",
       "      <td>V257</td>\n",
       "      <td>0.053352</td>\n",
       "    </tr>\n",
       "    <tr>\n",
       "      <td>16</td>\n",
       "      <td>C1</td>\n",
       "      <td>0.046582</td>\n",
       "    </tr>\n",
       "    <tr>\n",
       "      <td>29</td>\n",
       "      <td>C14</td>\n",
       "      <td>0.035095</td>\n",
       "    </tr>\n",
       "    <tr>\n",
       "      <td>28</td>\n",
       "      <td>C13</td>\n",
       "      <td>0.028784</td>\n",
       "    </tr>\n",
       "    <tr>\n",
       "      <td>27</td>\n",
       "      <td>C12</td>\n",
       "      <td>0.025144</td>\n",
       "    </tr>\n",
       "    <tr>\n",
       "      <td>2</td>\n",
       "      <td>TransactionAmt</td>\n",
       "      <td>0.024438</td>\n",
       "    </tr>\n",
       "    <tr>\n",
       "      <td>227</td>\n",
       "      <td>V189</td>\n",
       "      <td>0.023425</td>\n",
       "    </tr>\n",
       "    <tr>\n",
       "      <td>284</td>\n",
       "      <td>V246</td>\n",
       "      <td>0.022713</td>\n",
       "    </tr>\n",
       "    <tr>\n",
       "      <td>4</td>\n",
       "      <td>card1</td>\n",
       "      <td>0.019993</td>\n",
       "    </tr>\n",
       "  </tbody>\n",
       "</table>\n",
       "</div>"
      ],
      "text/plain": [
       "               cols       imp\n",
       "296            V258  0.085908\n",
       "295            V257  0.053352\n",
       "16               C1  0.046582\n",
       "29              C14  0.035095\n",
       "28              C13  0.028784\n",
       "27              C12  0.025144\n",
       "2    TransactionAmt  0.024438\n",
       "227            V189  0.023425\n",
       "284            V246  0.022713\n",
       "4             card1  0.019993"
      ]
     },
     "execution_count": 15,
     "metadata": {},
     "output_type": "execute_result"
    }
   ],
   "source": [
    "fi = rf_feat_importance(m, df); fi[:10]"
   ]
  },
  {
   "cell_type": "code",
   "execution_count": 16,
   "metadata": {
    "scrolled": true
   },
   "outputs": [
    {
     "data": {
      "image/png": "[encoded data removed]",
      "text/plain": [
       "<Figure size 864x504 with 1 Axes>"
      ]
     },
     "metadata": {
      "needs_background": "light"
     },
     "output_type": "display_data"
    }
   ],
   "source": [
    "def plot_fi(fi): \n",
    "  return fi.plot('cols','imp','barh', figsize=(12,7), legend=False)\n",
    "plot_fi(fi[:30]);"
   ]
  },
  {
   "cell_type": "code",
   "execution_count": 22,
   "metadata": {},
   "outputs": [
    {
     "data": {
      "text/plain": [
       "139"
      ]
     },
     "execution_count": 22,
     "metadata": {},
     "output_type": "execute_result"
    }
   ],
   "source": [
    "to_keep = fi[fi.imp>0.001].cols; len(to_keep)"
   ]
  },
  {
   "cell_type": "code",
   "execution_count": 23,
   "metadata": {},
   "outputs": [
    {
     "data": {
      "text/plain": [
       "((540540, 139), (540540,), (50000, 139))"
      ]
     },
     "execution_count": 23,
     "metadata": {},
     "output_type": "execute_result"
    }
   ],
   "source": [
    "df_keep = df[to_keep].copy()\n",
    "X_train, X_valid = split_vals(df_keep, n_trn)\n",
    "X_train.shape, y_train.shape, X_valid.shape"
   ]
  },
  {
   "cell_type": "code",
   "execution_count": 24,
   "metadata": {},
   "outputs": [
    {
     "name": "stdout",
     "output_type": "stream",
     "text": [
      "CPU times: user 1min, sys: 11.3 s, total: 1min 11s\n",
      "Wall time: 15.5 s\n",
      "[0.9345662340499425, 0.8810859753322793, 0.975012025012025, 0.97054]\n"
     ]
    }
   ],
   "source": [
    "m = RandomForestClassifier(n_estimators=20, min_samples_leaf=10,max_features=0.5,n_jobs=-1)\n",
    "%time m.fit(X_train, y_train)\n",
    "print_score(m)"
   ]
  },
  {
   "cell_type": "markdown",
   "metadata": {},
   "source": [
    "# Official Training"
   ]
  },
  {
   "cell_type": "code",
   "execution_count": 25,
   "metadata": {},
   "outputs": [],
   "source": [
    "reset_rf_samples()"
   ]
  },
  {
   "cell_type": "code",
   "execution_count": 7,
   "metadata": {},
   "outputs": [
    {
     "data": {
      "text/plain": [
       "((540540, 1072), (540540,), (50000, 1072))"
      ]
     },
     "execution_count": 7,
     "metadata": {},
     "output_type": "execute_result"
    }
   ],
   "source": [
    "def split_vals(a,n): return a[:n].copy(), a[n:].copy()\n",
    "n_valid = 50000  # new validation set\n",
    "n_trn = len(train_merged)-n_valid\n",
    "X_train, X_valid = split_vals(df, n_trn)\n",
    "y_train, y_valid = split_vals(y, n_trn)\n",
    "\n",
    "X_train.shape, y_train.shape, X_valid.shape"
   ]
  },
  {
   "cell_type": "code",
   "execution_count": 26,
   "metadata": {
    "scrolled": true
   },
   "outputs": [
    {
     "name": "stdout",
     "output_type": "stream",
     "text": [
      "CPU times: user 7h 35min 45s, sys: 7min 5s, total: 7h 42min 50s\n",
      "Wall time: 58min 11s\n",
      "[0.9956276666635433, 0.9090622085691971, 0.9822325822325823, 0.97262]\n"
     ]
    }
   ],
   "source": [
    "m = RandomForestClassifier(n_estimators=1000, min_samples_leaf=10,max_features=0.5,n_jobs=-1)\n",
    "%time m.fit(X_train, y_train)\n",
    "print_score(m)"
   ]
  },
  {
   "cell_type": "markdown",
   "metadata": {},
   "source": [
    "# Testing and Submit to Kaggle"
   ]
  },
  {
   "cell_type": "code",
   "execution_count": 28,
   "metadata": {},
   "outputs": [],
   "source": [
    "test_merged = pd.read_feather('tmp/IEEE-test-merged2')"
   ]
  },
  {
   "cell_type": "code",
   "execution_count": 29,
   "metadata": {},
   "outputs": [
    {
     "name": "stdout",
     "output_type": "stream",
     "text": [
      "<class 'pandas.core.frame.DataFrame'>\n",
      "RangeIndex: 506691 entries, 0 to 506690\n",
      "Columns: 613 entries, TransactionID to DeviceInfo\n",
      "dtypes: bool(90), category(31), float64(474), int64(18)\n",
      "memory usage: 1.9 GB\n"
     ]
    }
   ],
   "source": [
    "test_merged.info()"
   ]
  },
  {
   "cell_type": "markdown",
   "metadata": {},
   "source": [
    "Use random forest model"
   ]
  },
  {
   "cell_type": "code",
   "execution_count": 31,
   "metadata": {},
   "outputs": [],
   "source": [
    "X_test, _, nas = proc_df(test_merged, na_dict=nas)"
   ]
  },
  {
   "cell_type": "code",
   "execution_count": 34,
   "metadata": {},
   "outputs": [],
   "source": [
    "X_test_keep = X_test[to_keep].copy()"
   ]
  },
  {
   "cell_type": "code",
   "execution_count": 35,
   "metadata": {},
   "outputs": [
    {
     "name": "stdout",
     "output_type": "stream",
     "text": [
      "<class 'pandas.core.frame.DataFrame'>\n",
      "RangeIndex: 506691 entries, 0 to 506690\n",
      "Columns: 139 entries, V258 to M9\n",
      "dtypes: bool(1), float64(118), int16(3), int64(4), int8(13)\n",
      "memory usage: 481.3 MB\n"
     ]
    }
   ],
   "source": [
    "X_test_keep.info()"
   ]
  },
  {
   "cell_type": "code",
   "execution_count": 32,
   "metadata": {},
   "outputs": [],
   "source": [
    "df, y, nas = proc_df(train_merged, 'isFraud', na_dict=nas)"
   ]
  },
  {
   "cell_type": "code",
   "execution_count": 36,
   "metadata": {},
   "outputs": [],
   "source": [
    "prediction = m.predict_proba(X_test_keep)"
   ]
  },
  {
   "cell_type": "code",
   "execution_count": 37,
   "metadata": {},
   "outputs": [
    {
     "data": {
      "text/plain": [
       "array([0.00694, 0.01028, 0.03882, 0.02068, 0.01608])"
      ]
     },
     "execution_count": 37,
     "metadata": {},
     "output_type": "execute_result"
    }
   ],
   "source": [
    "prediction[:5,1]"
   ]
  },
  {
   "cell_type": "code",
   "execution_count": 16,
   "metadata": {},
   "outputs": [],
   "source": [
    "submission = pd.DataFrame()\n",
    "submission['TransactionID'] = test_merged.TransactionID\n",
    "submission['isFraud'] = prediction[:,1]"
   ]
  },
  {
   "cell_type": "code",
   "execution_count": 17,
   "metadata": {},
   "outputs": [
    {
     "data": {
      "text/plain": [
       "(506691, 2)"
      ]
     },
     "execution_count": 17,
     "metadata": {},
     "output_type": "execute_result"
    }
   ],
   "source": [
    "submission.shape"
   ]
  },
  {
   "cell_type": "code",
   "execution_count": 18,
   "metadata": {},
   "outputs": [],
   "source": [
    "submission.to_csv('submission_2.csv',index=Faslse)"
   ]
  },
  {
   "cell_type": "code",
   "execution_count": 19,
   "metadata": {},
   "outputs": [],
   "source": [
    "import pickle"
   ]
  },
  {
   "cell_type": "code",
   "execution_count": 21,
   "metadata": {},
   "outputs": [],
   "source": [
    "filename = 'model_09.sav'\n",
    "pickle.dump(m, open(filename, 'wb'))"
   ]
  }
 ],
 "metadata": {
  "kernelspec": {
   "display_name": "Python 3",
   "language": "python",
   "name": "python3"
  },
  "language_info": {
   "codemirror_mode": {
    "name": "ipython",
    "version": 3
   },
   "file_extension": ".py",
   "mimetype": "text/x-python",
   "name": "python",
   "nbconvert_exporter": "python",
   "pygments_lexer": "ipython3",
   "version": "3.6.9"
  }
 },
 "nbformat": 4,
 "nbformat_minor": 2
}
